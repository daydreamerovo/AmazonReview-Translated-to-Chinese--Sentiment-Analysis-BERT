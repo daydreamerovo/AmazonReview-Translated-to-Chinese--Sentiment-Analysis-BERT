{
 "cells": [
  {
   "cell_type": "code",
   "execution_count": 1,
   "id": "36a6aa3d",
   "metadata": {},
   "outputs": [],
   "source": [
    "import pandas as pd\n",
    "import re"
   ]
  },
  {
   "cell_type": "code",
   "execution_count": 2,
   "id": "6bec1d33",
   "metadata": {},
   "outputs": [
    {
     "name": "stdout",
     "output_type": "stream",
     "text": [
      "original data info:\n",
      "<class 'pandas.core.frame.DataFrame'>\n",
      "RangeIndex: 99960 entries, 0 to 99959\n",
      "Data columns (total 2 columns):\n",
      " #   Column      Non-Null Count  Dtype \n",
      "---  ------      --------------  ----- \n",
      " 0   sentiment   99960 non-null  int64 \n",
      " 1   final_text  99960 non-null  object\n",
      "dtypes: int64(1), object(1)\n",
      "memory usage: 1.5+ MB\n",
      "\n",
      " data preview:\n"
     ]
    },
    {
     "data": {
      "text/html": [
       "<div>\n",
       "<style scoped>\n",
       "    .dataframe tbody tr th:only-of-type {\n",
       "        vertical-align: middle;\n",
       "    }\n",
       "\n",
       "    .dataframe tbody tr th {\n",
       "        vertical-align: top;\n",
       "    }\n",
       "\n",
       "    .dataframe thead th {\n",
       "        text-align: right;\n",
       "    }\n",
       "</style>\n",
       "<table border=\"1\" class=\"dataframe\">\n",
       "  <thead>\n",
       "    <tr style=\"text-align: right;\">\n",
       "      <th></th>\n",
       "      <th>sentiment</th>\n",
       "      <th>final_text</th>\n",
       "    </tr>\n",
       "  </thead>\n",
       "  <tbody>\n",
       "    <tr>\n",
       "      <th>0</th>\n",
       "      <td>2</td>\n",
       "      <td>如果我每听一次这张CD就有一美元，每回让艾丽卡（Alexa）播放一次就有一美元的话，我现在就...</td>\n",
       "    </tr>\n",
       "    <tr>\n",
       "      <th>1</th>\n",
       "      <td>2</td>\n",
       "      <td>“出色的音效——迫不及待想亲眼看到他们了——当他们在城里时，我总是想念他们！”</td>\n",
       "    </tr>\n",
       "    <tr>\n",
       "      <th>2</th>\n",
       "      <td>2</td>\n",
       "      <td>这是一张很棒的CD。音乐很好，播放也很顺畅。卖家回复非常快，三天内就收到了。</td>\n",
       "    </tr>\n",
       "    <tr>\n",
       "      <th>3</th>\n",
       "      <td>0</td>\n",
       "      <td>“这些不是真正的德国歌手，他们有口音。这和他们宣传的完全不一样。音乐太差了。”</td>\n",
       "    </tr>\n",
       "    <tr>\n",
       "      <th>4</th>\n",
       "      <td>1</td>\n",
       "      <td>我第一次是在名古屋的一家商店里听到这首歌的，立刻爱上了凯莎（Ke$ha）的《Tik Tok》...</td>\n",
       "    </tr>\n",
       "  </tbody>\n",
       "</table>\n",
       "</div>"
      ],
      "text/plain": [
       "   sentiment                                         final_text\n",
       "0          2  如果我每听一次这张CD就有一美元，每回让艾丽卡（Alexa）播放一次就有一美元的话，我现在就...\n",
       "1          2            “出色的音效——迫不及待想亲眼看到他们了——当他们在城里时，我总是想念他们！”\n",
       "2          2             这是一张很棒的CD。音乐很好，播放也很顺畅。卖家回复非常快，三天内就收到了。\n",
       "3          0            “这些不是真正的德国歌手，他们有口音。这和他们宣传的完全不一样。音乐太差了。”\n",
       "4          1  我第一次是在名古屋的一家商店里听到这首歌的，立刻爱上了凯莎（Ke$ha）的《Tik Tok》..."
      ]
     },
     "execution_count": 2,
     "metadata": {},
     "output_type": "execute_result"
    }
   ],
   "source": [
    "file_path = '../data/final_training_data_3class.csv'\n",
    "df = pd.read_csv(file_path)\n",
    "print(\"original data info:\")\n",
    "df.info()\n",
    "\n",
    "print(\"\\n data preview:\")\n",
    "df.head()"
   ]
  },
  {
   "cell_type": "code",
   "execution_count": 4,
   "id": "9236729e",
   "metadata": {},
   "outputs": [
    {
     "name": "stdout",
     "output_type": "stream",
     "text": [
      "Original data size: 99960\n",
      "Preserved data size: 17958\n",
      "Cleaned data size: 82002\n"
     ]
    }
   ],
   "source": [
    "def contain_chinese(text):\n",
    "    \"\"\"\n",
    "    search for Chinese characters in the file.\n",
    "    \"\"\"\n",
    "    # [\\u4e00-\\u9fa5] is the range for chinese characters\n",
    "    return bool(re.search(r'[\\u4e00-\\u9fa5]', str(text)))\n",
    "\n",
    "translated = df['final_text'].apply(contain_chinese)\n",
    "df_cleaned = df[translated].copy()\n",
    "\n",
    "print(f\"Original data size: {len(df)}\")\n",
    "print(f\"Preserved data size: {len(df_cleaned)}\")\n",
    "print(f\"Cleaned data size: {len(df) - len(df_cleaned)}\")"
   ]
  },
  {
   "cell_type": "code",
   "execution_count": 7,
   "id": "cf3374f6",
   "metadata": {},
   "outputs": [
    {
     "name": "stdout",
     "output_type": "stream",
     "text": [
      "                                          final_text  \\\n",
      "0  如果我每听一次这张CD就有一美元，每回让艾丽卡（Alexa）播放一次就有一美元的话，我现在就...   \n",
      "1            “出色的音效——迫不及待想亲眼看到他们了——当他们在城里时，我总是想念他们！”   \n",
      "2             这是一张很棒的CD。音乐很好，播放也很顺畅。卖家回复非常快，三天内就收到了。   \n",
      "3            “这些不是真正的德国歌手，他们有口音。这和他们宣传的完全不一样。音乐太差了。”   \n",
      "4  我第一次是在名古屋的一家商店里听到这首歌的，立刻爱上了凯莎（Ke$ha）的《Tik Tok》...   \n",
      "\n",
      "                                        cleaned_text  \n",
      "0  如果我每听一次这张CD就有一美元，每回让艾丽卡（Alexa）播放一次就有一美元的话，我现在就...  \n",
      "1            “出色的音效——迫不及待想亲眼看到他们了——当他们在城里时，我总是想念他们！”  \n",
      "2             这是一张很棒的CD。音乐很好，播放也很顺畅。卖家回复非常快，三天内就收到了。  \n",
      "3            “这些不是真正的德国歌手，他们有口音。这和他们宣传的完全不一样。音乐太差了。”  \n",
      "4  我第一次是在名古屋的一家商店里听到这首歌的，立刻爱上了凯莎（Ke$ha）的《Tik Tok》...  \n"
     ]
    }
   ],
   "source": [
    "def clean_text(text):\n",
    "    if not isinstance(text, str):\n",
    "        return \"\"\n",
    "    \n",
    "    # remove HTML labels\n",
    "    text = re.sub(r'<.*?>','',text)\n",
    "\n",
    "    # remove websites\n",
    "    text = re.sub(r'https?://\\S+|www\\.\\S+', '', text)\n",
    "                  \n",
    "    # remove redundant spacings, and etc into spacings\n",
    "    text = re.sub(r'\\s+', ' ', text).strip()\n",
    "\n",
    "    return text\n",
    "\n",
    "\n",
    "df_cleaned['cleaned_text'] = df_cleaned['final_text'].apply(clean_text)\n",
    "\n",
    "print(df_cleaned[['final_text', 'cleaned_text']].head())"
   ]
  },
  {
   "cell_type": "code",
   "execution_count": 24,
   "id": "ad50b4ff",
   "metadata": {},
   "outputs": [
    {
     "name": "stdout",
     "output_type": "stream",
     "text": [
      "loading: ../data/reviews_complete_and_cleaned.csv\n",
      "saving data to path: ../data/final_training_data.csv\n",
      "   rating                                         final_text\n",
      "0     5.0  如果我每听一次这张CD就有一美元，每回让艾丽卡（Alexa）播放一次就有一美元的话，我现在就...\n",
      "1     5.0            “出色的音效——迫不及待想亲眼看到他们了——当他们在城里时，我总是想念他们！”\n",
      "2     5.0             这是一张很棒的CD。音乐很好，播放也很顺畅。卖家回复非常快，三天内就收到了。\n",
      "3     1.0            “这些不是真正的德国歌手，他们有口音。这和他们宣传的完全不一样。音乐太差了。”\n",
      "4     3.0  我第一次是在名古屋的一家商店里听到这首歌的，立刻爱上了凯莎（Ke$ha）的《Tik Tok》...\n",
      "\n",
      " check null:\n",
      "rating        0\n",
      "final_text    0\n",
      "dtype: int64\n"
     ]
    }
   ],
   "source": [
    "#  Load the complete data \n",
    "source_file = '../data/reviews_complete_and_cleaned.csv'\n",
    "# We will create a brand new file, which is the final version for training\n",
    "final_output_file = '../data/final_training_data.csv'\n",
    "\n",
    "print(f\"loading: {source_file}\")\n",
    "df = pd.read_csv(source_file)\n",
    "\n",
    "#  replace all newline characters and extra spaces with a single space.\n",
    "def fix_layout(text):\n",
    "    if not isinstance(text, str):\n",
    "        return \"\"\n",
    "    # Replace newline characters with a space, then replace multiple spaces with a single space\n",
    "    text = text.replace('\\n', ' ').replace('\\r', ' ')\n",
    "    text = re.sub(r'\\s+', ' ', text).strip()\n",
    "    return text\n",
    "\n",
    "# Apply this cleaning function to the 'translated_text' column and create a new, final clean column\n",
    "df['final_text'] = df['translated_text'].apply(fix_layout)\n",
    "\n",
    "final_df = df[['rating', 'final_text']]\n",
    "\n",
    "# Save dataset for training\n",
    "print(f\"saving data to path: {final_output_file}\")\n",
    "final_df.to_csv(final_output_file, index=False, encoding='utf-8-sig')\n",
    "\n",
    "print(final_df.head())\n",
    "\n",
    "# Check for any null values\n",
    "print(\"\\n check null:\")\n",
    "print(final_df.isnull().sum())"
   ]
  },
  {
   "cell_type": "code",
   "execution_count": 2,
   "id": "d6283d15",
   "metadata": {},
   "outputs": [
    {
     "name": "stdout",
     "output_type": "stream",
     "text": [
      "Loading data from: ../data/final_training_data.csv\n",
      "Creating new 3-class sentiment labels...\n",
      "Saving 3-class data to: ../data/final_training_data_3class.csv\n",
      "\n",
      "--- 3-Class dataset creation complete! ---\n",
      "New dataset preview:\n",
      "   sentiment                                         final_text\n",
      "0          2  如果我每听一次这张CD就有一美元，每回让艾丽卡（Alexa）播放一次就有一美元的话，我现在就...\n",
      "1          2            “出色的音效——迫不及待想亲眼看到他们了——当他们在城里时，我总是想念他们！”\n",
      "2          2             这是一张很棒的CD。音乐很好，播放也很顺畅。卖家回复非常快，三天内就收到了。\n",
      "3          0            “这些不是真正的德国歌手，他们有口音。这和他们宣传的完全不一样。音乐太差了。”\n",
      "4          1  我第一次是在名古屋的一家商店里听到这首歌的，立刻爱上了凯莎（Ke$ha）的《Tik Tok》...\n",
      "\n",
      "New class distribution:\n",
      "sentiment\n",
      "2    88112\n",
      "0     6842\n",
      "1     5006\n",
      "Name: count, dtype: int64\n"
     ]
    }
   ],
   "source": [
    "import pandas as pd\n",
    "# 1. 加载我们之前精加工好的、用于5分类的数据\n",
    "source_file = '../data/final_training_data.csv'\n",
    "# 2. 定义我们新的、用于3分类的最终数据集的文件名\n",
    "output_file_3class = '../data/final_training_data_3class.csv'\n",
    "\n",
    "print(f\"Loading data from: {source_file}\")\n",
    "df = pd.read_csv(source_file)\n",
    "\n",
    "# 3. 定义标签映射函数\n",
    "def map_rating_to_sentiment(rating):\n",
    "    if rating in [1, 2]:\n",
    "        return 0  # Negative\n",
    "    elif rating == 3:\n",
    "        return 1  # Neutral\n",
    "    elif rating in [4, 5]:\n",
    "        return 2  # Positive\n",
    "    else:\n",
    "        return None # Handle other cases if any\n",
    "\n",
    "# 4. 创建新的'sentiment'列\n",
    "print(\"Creating new 3-class sentiment labels...\")\n",
    "df['sentiment'] = df['rating'].apply(map_rating_to_sentiment)\n",
    "\n",
    "# 5. 筛选出我们最终需要的列，并丢弃有问题的行\n",
    "final_df = df[['sentiment', 'final_text']].dropna()\n",
    "# 确保sentiment是整数类型\n",
    "final_df['sentiment'] = final_df['sentiment'].astype(int)\n",
    "\n",
    "# 6. 保存这个全新的、用于3分类训练的数据集\n",
    "print(f\"Saving 3-class data to: {output_file_3class}\")\n",
    "final_df.to_csv(output_file_3class, index=False, encoding='utf-8-sig')\n",
    "\n",
    "print(\"\\n--- 3-Class dataset creation complete! ---\")\n",
    "print(\"New dataset preview:\")\n",
    "print(final_df.head())\n",
    "print(\"\\nNew class distribution:\")\n",
    "print(final_df['sentiment'].value_counts())"
   ]
  },
  {
   "cell_type": "code",
   "execution_count": null,
   "id": "cb2332f6",
   "metadata": {},
   "outputs": [],
   "source": []
  }
 ],
 "metadata": {
  "kernelspec": {
   "display_name": "llm_new",
   "language": "python",
   "name": "python3"
  },
  "language_info": {
   "codemirror_mode": {
    "name": "ipython",
    "version": 3
   },
   "file_extension": ".py",
   "mimetype": "text/x-python",
   "name": "python",
   "nbconvert_exporter": "python",
   "pygments_lexer": "ipython3",
   "version": "3.10.18"
  }
 },
 "nbformat": 4,
 "nbformat_minor": 5
}
